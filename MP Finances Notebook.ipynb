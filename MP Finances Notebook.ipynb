{
 "cells": [
  {
   "cell_type": "markdown",
   "id": "ce83a1d8",
   "metadata": {},
   "source": [
    "# To-Do (Ideas and Planing)\n",
    "class=\"indent\" and class=\"indent2\" contain main information.\n",
    "The text can be searched, every word containing '£' could be returned.\n",
    "I need to come up with a way of filtering out (or otherwise accounting for)\n",
    "'total values' of financial interests. perhaps looking for the word 'total'?\n",
    "\n",
    "<strong></strong> contains numbered headers needed to sort types of info.\n",
    "Headers represent 10 types of financial interests that need to be declared.\n",
    "More info on these 10 types can be found here:\n",
    "https://publications.parliament.uk/pa/cm201719/cmcode/1882/188204.htm\n",
    "\n"
   ]
  },
  {
   "cell_type": "code",
   "execution_count": null,
   "id": "378189b8",
   "metadata": {},
   "outputs": [],
   "source": []
  }
 ],
 "metadata": {
  "kernelspec": {
   "display_name": "Python 3 (ipykernel)",
   "language": "python",
   "name": "python3"
  },
  "language_info": {
   "codemirror_mode": {
    "name": "ipython",
    "version": 3
   },
   "file_extension": ".py",
   "mimetype": "text/x-python",
   "name": "python",
   "nbconvert_exporter": "python",
   "pygments_lexer": "ipython3",
   "version": "3.10.9"
  }
 },
 "nbformat": 4,
 "nbformat_minor": 5
}
